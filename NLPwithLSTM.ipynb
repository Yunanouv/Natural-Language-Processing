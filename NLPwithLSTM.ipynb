{
  "nbformat": 4,
  "nbformat_minor": 0,
  "metadata": {
    "colab": {
      "provenance": []
    },
    "kernelspec": {
      "name": "python3",
      "display_name": "Python 3"
    },
    "language_info": {
      "name": "python"
    }
  },
  "cells": [
    {
      "cell_type": "markdown",
      "metadata": {
        "id": "xLKQLiVgloRA"
      },
      "source": [
        "**Analisis Prediksi Jenis Produk Berdasarkan Review yang Diberikan**"
      ]
    },
    {
      "cell_type": "code",
      "metadata": {
        "colab": {
          "base_uri": "https://localhost:8080/"
        },
        "id": "pIEfA4klK2wf",
        "outputId": "8cf88dc4-5d7b-430d-9c3f-540b101a63e2"
      },
      "source": [
        "from google.colab import drive\n",
        "drive.mount('/content/drive')\n"
      ],
      "execution_count": null,
      "outputs": [
        {
          "output_type": "stream",
          "name": "stdout",
          "text": [
            "Mounted at /content/drive\n"
          ]
        }
      ]
    },
    {
      "cell_type": "code",
      "metadata": {
        "colab": {
          "base_uri": "https://localhost:8080/"
        },
        "id": "IK7W1fRMLHu3",
        "outputId": "48e1073d-0af2-46b6-d779-9ff37bfda6ed"
      },
      "source": [
        "!unzip \"/content/drive/MyDrive/Dicoding/Sub1-Kaggle-Women'sClothingReview/Kaggle-Women'sClothingReviews.zip\" -d \"/content/drive/MyDrive/Dicoding/Sub1-Kaggle-Women'sClothingReview\""
      ],
      "execution_count": null,
      "outputs": [
        {
          "output_type": "stream",
          "name": "stdout",
          "text": [
            "Archive:  /content/drive/MyDrive/Dicoding/Sub1-Kaggle-Women'sClothingReview/Kaggle-Women'sClothingReviews.zip\n",
            "replace /content/drive/MyDrive/Dicoding/Sub1-Kaggle-Women'sClothingReview/Kaggle-Women'sClothingReviews/Womens Clothing E-Commerce Reviews.csv? [y]es, [n]o, [A]ll, [N]one, [r]ename: y\n",
            "  inflating: /content/drive/MyDrive/Dicoding/Sub1-Kaggle-Women'sClothingReview/Kaggle-Women'sClothingReviews/Womens Clothing E-Commerce Reviews.csv  \n"
          ]
        }
      ]
    },
    {
      "cell_type": "code",
      "metadata": {
        "colab": {
          "base_uri": "https://localhost:8080/",
          "height": 202
        },
        "id": "X8ahwndULlJs",
        "outputId": "5c98812f-dded-4a36-d2dc-30975514142b"
      },
      "source": [
        "import pandas as pd\n",
        "dataset = pd.read_csv(\"/content/drive/MyDrive/Dicoding/Sub1-Kaggle-Women'sClothingReview/Womens Clothing E-Commerce Reviews.csv\")\n",
        "\n",
        "# menghapus data yang mengandung nilai null\n",
        "dataset.dropna(axis=0, subset=['Review Text','Department Name'], inplace=True)\n",
        "# menghapus kolom yang tidak relevan\n",
        "dataset = dataset.drop(columns=['Unnamed: 0','Title','Clothing ID','Age','Recommended IND','Division Name','Positive Feedback Count'])\n",
        "\n",
        "dataset.head()"
      ],
      "execution_count": null,
      "outputs": [
        {
          "output_type": "execute_result",
          "data": {
            "text/html": [
              "<div>\n",
              "<style scoped>\n",
              "    .dataframe tbody tr th:only-of-type {\n",
              "        vertical-align: middle;\n",
              "    }\n",
              "\n",
              "    .dataframe tbody tr th {\n",
              "        vertical-align: top;\n",
              "    }\n",
              "\n",
              "    .dataframe thead th {\n",
              "        text-align: right;\n",
              "    }\n",
              "</style>\n",
              "<table border=\"1\" class=\"dataframe\">\n",
              "  <thead>\n",
              "    <tr style=\"text-align: right;\">\n",
              "      <th></th>\n",
              "      <th>Review Text</th>\n",
              "      <th>Rating</th>\n",
              "      <th>Department Name</th>\n",
              "      <th>Class Name</th>\n",
              "    </tr>\n",
              "  </thead>\n",
              "  <tbody>\n",
              "    <tr>\n",
              "      <th>0</th>\n",
              "      <td>Absolutely wonderful - silky and sexy and comf...</td>\n",
              "      <td>4</td>\n",
              "      <td>Intimate</td>\n",
              "      <td>Intimates</td>\n",
              "    </tr>\n",
              "    <tr>\n",
              "      <th>1</th>\n",
              "      <td>Love this dress!  it's sooo pretty.  i happene...</td>\n",
              "      <td>5</td>\n",
              "      <td>Dresses</td>\n",
              "      <td>Dresses</td>\n",
              "    </tr>\n",
              "    <tr>\n",
              "      <th>2</th>\n",
              "      <td>I had such high hopes for this dress and reall...</td>\n",
              "      <td>3</td>\n",
              "      <td>Dresses</td>\n",
              "      <td>Dresses</td>\n",
              "    </tr>\n",
              "    <tr>\n",
              "      <th>3</th>\n",
              "      <td>I love, love, love this jumpsuit. it's fun, fl...</td>\n",
              "      <td>5</td>\n",
              "      <td>Bottoms</td>\n",
              "      <td>Pants</td>\n",
              "    </tr>\n",
              "    <tr>\n",
              "      <th>4</th>\n",
              "      <td>This shirt is very flattering to all due to th...</td>\n",
              "      <td>5</td>\n",
              "      <td>Tops</td>\n",
              "      <td>Blouses</td>\n",
              "    </tr>\n",
              "  </tbody>\n",
              "</table>\n",
              "</div>"
            ],
            "text/plain": [
              "                                         Review Text  ...  Class Name\n",
              "0  Absolutely wonderful - silky and sexy and comf...  ...   Intimates\n",
              "1  Love this dress!  it's sooo pretty.  i happene...  ...     Dresses\n",
              "2  I had such high hopes for this dress and reall...  ...     Dresses\n",
              "3  I love, love, love this jumpsuit. it's fun, fl...  ...       Pants\n",
              "4  This shirt is very flattering to all due to th...  ...     Blouses\n",
              "\n",
              "[5 rows x 4 columns]"
            ]
          },
          "metadata": {},
          "execution_count": 5
        }
      ]
    },
    {
      "cell_type": "code",
      "metadata": {
        "colab": {
          "base_uri": "https://localhost:8080/",
          "height": 355
        },
        "id": "xe_wlIYLL2CM",
        "outputId": "0a29f3ab-03a2-43ba-b48c-8f6042f55dd1"
      },
      "source": [
        "dataset[90:100]"
      ],
      "execution_count": null,
      "outputs": [
        {
          "output_type": "execute_result",
          "data": {
            "text/html": [
              "<div>\n",
              "<style scoped>\n",
              "    .dataframe tbody tr th:only-of-type {\n",
              "        vertical-align: middle;\n",
              "    }\n",
              "\n",
              "    .dataframe tbody tr th {\n",
              "        vertical-align: top;\n",
              "    }\n",
              "\n",
              "    .dataframe thead th {\n",
              "        text-align: right;\n",
              "    }\n",
              "</style>\n",
              "<table border=\"1\" class=\"dataframe\">\n",
              "  <thead>\n",
              "    <tr style=\"text-align: right;\">\n",
              "      <th></th>\n",
              "      <th>Review Text</th>\n",
              "      <th>Rating</th>\n",
              "      <th>Department Name</th>\n",
              "      <th>Class Name</th>\n",
              "    </tr>\n",
              "  </thead>\n",
              "  <tbody>\n",
              "    <tr>\n",
              "      <th>90</th>\n",
              "      <td>I love cute summer dresses and this one, espec...</td>\n",
              "      <td>4</td>\n",
              "      <td>Dresses</td>\n",
              "      <td>Dresses</td>\n",
              "    </tr>\n",
              "    <tr>\n",
              "      <th>91</th>\n",
              "      <td>This top is so much prettier in real life than...</td>\n",
              "      <td>5</td>\n",
              "      <td>Tops</td>\n",
              "      <td>Blouses</td>\n",
              "    </tr>\n",
              "    <tr>\n",
              "      <th>94</th>\n",
              "      <td>This shirt caught my eye because of how beauti...</td>\n",
              "      <td>4</td>\n",
              "      <td>Tops</td>\n",
              "      <td>Blouses</td>\n",
              "    </tr>\n",
              "    <tr>\n",
              "      <th>95</th>\n",
              "      <td>Purchased this top online, and when i received...</td>\n",
              "      <td>5</td>\n",
              "      <td>Tops</td>\n",
              "      <td>Knits</td>\n",
              "    </tr>\n",
              "    <tr>\n",
              "      <th>96</th>\n",
              "      <td>I usually wear a medium and bought a small. it...</td>\n",
              "      <td>1</td>\n",
              "      <td>Tops</td>\n",
              "      <td>Blouses</td>\n",
              "    </tr>\n",
              "    <tr>\n",
              "      <th>97</th>\n",
              "      <td>I was very excited to order this top in red xs...</td>\n",
              "      <td>1</td>\n",
              "      <td>Tops</td>\n",
              "      <td>Knits</td>\n",
              "    </tr>\n",
              "    <tr>\n",
              "      <th>99</th>\n",
              "      <td>I am in need of easy comfortable tops for ever...</td>\n",
              "      <td>3</td>\n",
              "      <td>Tops</td>\n",
              "      <td>Knits</td>\n",
              "    </tr>\n",
              "    <tr>\n",
              "      <th>100</th>\n",
              "      <td>At first i wasn't sure about it. the neckline ...</td>\n",
              "      <td>4</td>\n",
              "      <td>Tops</td>\n",
              "      <td>Knits</td>\n",
              "    </tr>\n",
              "    <tr>\n",
              "      <th>101</th>\n",
              "      <td>I find that this brand can be a little bit all...</td>\n",
              "      <td>4</td>\n",
              "      <td>Tops</td>\n",
              "      <td>Knits</td>\n",
              "    </tr>\n",
              "    <tr>\n",
              "      <th>102</th>\n",
              "      <td>This top is absolutely stunning. i purchased t...</td>\n",
              "      <td>5</td>\n",
              "      <td>Tops</td>\n",
              "      <td>Blouses</td>\n",
              "    </tr>\n",
              "  </tbody>\n",
              "</table>\n",
              "</div>"
            ],
            "text/plain": [
              "                                           Review Text  ...  Class Name\n",
              "90   I love cute summer dresses and this one, espec...  ...     Dresses\n",
              "91   This top is so much prettier in real life than...  ...     Blouses\n",
              "94   This shirt caught my eye because of how beauti...  ...     Blouses\n",
              "95   Purchased this top online, and when i received...  ...       Knits\n",
              "96   I usually wear a medium and bought a small. it...  ...     Blouses\n",
              "97   I was very excited to order this top in red xs...  ...       Knits\n",
              "99   I am in need of easy comfortable tops for ever...  ...       Knits\n",
              "100  At first i wasn't sure about it. the neckline ...  ...       Knits\n",
              "101  I find that this brand can be a little bit all...  ...       Knits\n",
              "102  This top is absolutely stunning. i purchased t...  ...     Blouses\n",
              "\n",
              "[10 rows x 4 columns]"
            ]
          },
          "metadata": {},
          "execution_count": 6
        }
      ]
    },
    {
      "cell_type": "code",
      "metadata": {
        "colab": {
          "base_uri": "https://localhost:8080/"
        },
        "id": "JTBfehk2L7sU",
        "outputId": "a5e767ae-95f9-41c3-a6fc-6894dedd0dc2"
      },
      "source": [
        "import re\n",
        "import nltk\n",
        "from nltk.corpus import stopwords\n",
        "nltk.download('stopwords')\n",
        "\n",
        "\n",
        "dataset = dataset.reset_index(drop=True)\n",
        "REPLACE_BY_SPACE_RE = re.compile('[/(){}\\[\\]\\|@,;]')\n",
        "BAD_SYMBOLS_RE = re.compile('[^0-9a-z #+_]')\n",
        "STOPWORDS = set(stopwords.words('english'))\n",
        "\n",
        "def clean_text(text):\n",
        "    \"\"\"\n",
        "        text : a string\n",
        "\n",
        "        return : modified initial string\n",
        "    \"\"\"\n",
        "    text = str(text).lower()\n",
        "    text = REPLACE_BY_SPACE_RE.sub(' ', text)\n",
        "    text = BAD_SYMBOLS_RE.sub('', text)\n",
        "    text = text.replace('x', '')\n",
        "    text = ' '.join(word for word in text.split() if word not in STOPWORDS)\n",
        "    return text\n",
        "dataset['Review Text'] = dataset['Review Text'].apply(clean_text)"
      ],
      "execution_count": null,
      "outputs": [
        {
          "output_type": "stream",
          "name": "stdout",
          "text": [
            "[nltk_data] Downloading package stopwords to /root/nltk_data...\n",
            "[nltk_data]   Unzipping corpora/stopwords.zip.\n"
          ]
        }
      ]
    },
    {
      "cell_type": "code",
      "metadata": {
        "id": "TosFJnWOTAeY"
      },
      "source": [
        "dataset['Review Text'] = dataset['Review Text'].str.replace('\\d+', '')"
      ],
      "execution_count": null,
      "outputs": []
    },
    {
      "cell_type": "code",
      "metadata": {
        "id": "XFKPOKxgLnQO"
      },
      "source": [
        "contractions = {\n",
        "\"ain't\": \"am not\",\n",
        "\"aren't\": \"are not\",\n",
        "\"can't\": \"cannot\",\n",
        "\"can't've\": \"cannot have\",\n",
        "\"'cause\": \"because\",\n",
        "\"could've\": \"could have\",\n",
        "\"couldn't\": \"could not\",\n",
        "\"couldn't've\": \"could not have\",\n",
        "\"didn't\": \"did not\",\n",
        "\"doesn't\": \"does not\",\n",
        "\"don't\": \"do not\",\n",
        "\"hadn't\": \"had not\",\n",
        "\"hadn't've\": \"had not have\",\n",
        "\"hasn't\": \"has not\",\n",
        "\"haven't\": \"have not\",\n",
        "\"he'd\": \"he would\",\n",
        "\"he'd've\": \"he would have\",\n",
        "\"he'll\": \"he will\",\n",
        "\"he'll've\": \"he will have\",\n",
        "\"he's\": \"he is\",\n",
        "\"how'd\": \"how did\",\n",
        "\"how'd'y\": \"how do you\",\n",
        "\"how'll\": \"how will\",\n",
        "\"how's\": \"how does\",\n",
        "\"i'd\": \"i would\",\n",
        "\"i'd've\": \"i would have\",\n",
        "\"i'll\": \"i will\",\n",
        "\"i'll've\": \"i will have\",\n",
        "\"i'm\": \"i am\",\n",
        "\"i've\": \"i have\",\n",
        "\"isn't\": \"is not\",\n",
        "\"it'd\": \"it would\",\n",
        "\"it'd've\": \"it would have\",\n",
        "\"it'll\": \"it will\",\n",
        "\"it'll've\": \"it will have\",\n",
        "\"it's\": \"it is\",\n",
        "\"let's\": \"let us\",\n",
        "\"ma'am\": \"madam\",\n",
        "\"mayn't\": \"may not\",\n",
        "\"might've\": \"might have\",\n",
        "\"mightn't\": \"might not\",\n",
        "\"mightn't've\": \"might not have\",\n",
        "\"must've\": \"must have\",\n",
        "\"mustn't\": \"must not\",\n",
        "\"mustn't've\": \"must not have\",\n",
        "\"needn't\": \"need not\",\n",
        "\"needn't've\": \"need not have\",\n",
        "\"o'clock\": \"of the clock\",\n",
        "\"oughtn't\": \"ought not\",\n",
        "\"oughtn't've\": \"ought not have\",\n",
        "\"shan't\": \"shall not\",\n",
        "\"sha'n't\": \"shall not\",\n",
        "\"shan't've\": \"shall not have\",\n",
        "\"she'd\": \"she would\",\n",
        "\"she'd've\": \"she would have\",\n",
        "\"she'll\": \"she will\",\n",
        "\"she'll've\": \"she will have\",\n",
        "\"she's\": \"she is\",\n",
        "\"should've\": \"should have\",\n",
        "\"shouldn't\": \"should not\",\n",
        "\"shouldn't've\": \"should not have\",\n",
        "\"so've\": \"so have\",\n",
        "\"so's\": \"so is\",\n",
        "\"that'd\": \"that would\",\n",
        "\"that'd've\": \"that would have\",\n",
        "\"that's\": \"that is\",\n",
        "\"there'd\": \"there would\",\n",
        "\"there'd've\": \"there would have\",\n",
        "\"there's\": \"there is\",\n",
        "\"they'd\": \"they would\",\n",
        "\"they'd've\": \"they would have\",\n",
        "\"they'll\": \"they will\",\n",
        "\"they'll've\": \"they will have\",\n",
        "\"they're\": \"they are\",\n",
        "\"they've\": \"they have\",\n",
        "\"to've\": \"to have\",\n",
        "\"wasn't\": \"was not\",\n",
        "\" u \": \" you \",\n",
        "\" ur \": \" your \",\n",
        "\" n \": \" and \"}"
      ],
      "execution_count": null,
      "outputs": []
    },
    {
      "cell_type": "code",
      "metadata": {
        "colab": {
          "base_uri": "https://localhost:8080/"
        },
        "id": "tTu1-BL0NVWf",
        "outputId": "94efd067-afdd-4928-85b6-12333d542a51"
      },
      "source": [
        "dataset['Department Name'].value_counts()"
      ],
      "execution_count": null,
      "outputs": [
        {
          "output_type": "execute_result",
          "data": {
            "text/plain": [
              "Tops        10048\n",
              "Dresses      6145\n",
              "Bottoms      3662\n",
              "Intimate     1653\n",
              "Jackets      1002\n",
              "Trend         118\n",
              "Name: Department Name, dtype: int64"
            ]
          },
          "metadata": {},
          "execution_count": 18
        }
      ]
    },
    {
      "cell_type": "code",
      "metadata": {
        "id": "-dNlmLvrOmcM"
      },
      "source": [
        "dataset = dataset.loc[dataset['Department Name'].isin([\"Tops\",\"Bottoms\"])]\n",
        "grouped_review = dataset.groupby([\"Class Name\"])['Review Text'].apply(' ::: '.join).reset_index()\n",
        "\n",
        "\n",
        "# Mendapatkan kata kunci\n",
        "topWear = [ \"top\",\"blouse\",\"shirt\",\"upper\",\"dress\",\"torso\",\"tank\",\"sleeve\",\"body\",\"sweater\"]\n",
        "bottomWear = [\"pant\",\"jean\",\"slack\",\"skirt\",\"leg\",\"waist\",\"lower\",\"thigh\",\"trouser\",\"flare\"]"
      ],
      "execution_count": null,
      "outputs": []
    },
    {
      "cell_type": "code",
      "metadata": {
        "id": "JLyXI_NNQgba"
      },
      "source": [
        "wordnet_lemmatizer = WordNetLemmatizer()\n",
        "keyWords = topWear + bottomWear\n",
        "dataFiltered = []\n",
        "for each_review in dataset :\n",
        "    temp = []\n",
        "    for word in each_review :\n",
        "        if not word in STOPWORDS and word in keyWords:\n",
        "            temp.append(wordnet_lemmatizer.lemmatize(word))\n",
        "    dataFiltered.append(temp)"
      ],
      "execution_count": null,
      "outputs": []
    },
    {
      "cell_type": "code",
      "metadata": {
        "colab": {
          "base_uri": "https://localhost:8080/"
        },
        "id": "lo312aRL-klL",
        "outputId": "cbe681b4-709d-4191-80c2-d4767df52f87"
      },
      "source": [
        "from tensorflow.keras.preprocessing.text import Tokenizer\n",
        "from tensorflow.keras.preprocessing.sequence import pad_sequences\n",
        "\n",
        "max_words = 10000\n",
        "max_length = 250\n",
        "embedding_dim = 100\n",
        "tokenizer = Tokenizer(num_words=max_words, filters = '!\"@#$%^&*(|[\\]);<=>_{?}', lower=True, char_level=False)\n",
        "tokenizer.fit_on_texts(dataset['Review Text'].values)\n",
        "word_index = tokenizer.word_index\n",
        "print('Found %s unique tokens' % len(word_index))\n",
        "\n",
        "X = tokenizer.texts_to_sequences(dataset['Review Text'].values)\n",
        "X = pad_sequences(X, maxlen=max_length)\n",
        "print('Shape of data tensor', X.shape)"
      ],
      "execution_count": null,
      "outputs": [
        {
          "output_type": "stream",
          "name": "stdout",
          "text": [
            "Found 13444 unique tokens\n",
            "Shape of data tensor (13710, 250)\n"
          ]
        }
      ]
    },
    {
      "cell_type": "code",
      "metadata": {
        "colab": {
          "base_uri": "https://localhost:8080/"
        },
        "id": "8RwjDS1DU8q5",
        "outputId": "45cdc0d4-8cd9-4327-ef6f-4db5fa06681a"
      },
      "source": [
        "Y = pd.get_dummies(dataset['Department Name']).values\n",
        "print('Shape of Label Tensor :', Y.shape)"
      ],
      "execution_count": null,
      "outputs": [
        {
          "output_type": "stream",
          "name": "stdout",
          "text": [
            "Shape of Label Tensor : (13710, 2)\n"
          ]
        }
      ]
    },
    {
      "cell_type": "code",
      "metadata": {
        "colab": {
          "base_uri": "https://localhost:8080/"
        },
        "id": "aujU53deVqix",
        "outputId": "d4c33970-16e4-4e8e-ddc2-e66e2769f74e"
      },
      "source": [
        "from sklearn.model_selection import train_test_split\n",
        "X_train, X_test, Y_train, Y_test = train_test_split(X,Y, test_size = 0.20, random_state = 42)\n",
        "print(X_train.shape, Y_train.shape)\n",
        "print(X_test.shape, Y_test.shape)"
      ],
      "execution_count": null,
      "outputs": [
        {
          "output_type": "stream",
          "name": "stdout",
          "text": [
            "(10968, 250) (10968, 2)\n",
            "(2742, 250) (2742, 2)\n"
          ]
        }
      ]
    },
    {
      "cell_type": "code",
      "metadata": {
        "colab": {
          "base_uri": "https://localhost:8080/"
        },
        "id": "hKOP11R8RvuW",
        "outputId": "a467b726-ca41-48af-ea15-b81af5542de4"
      },
      "source": [
        "import tensorflow as tf\n",
        "from keras.models import Sequential\n",
        "from keras.layers import Embedding, Bidirectional, SpatialDropout1D, LSTM, Dense\n",
        "\n",
        "model = Sequential()\n",
        "model.add(Embedding(max_words, embedding_dim, input_length=X.shape[1]))\n",
        "model.add(Bidirectional(LSTM(150, return_sequences=True)))\n",
        "model.add(SpatialDropout1D(0.2))\n",
        "model.add(LSTM(100, dropout=0.2, recurrent_dropout=0.2))\n",
        "model.add(Dense(64, activation='relu', kernel_regularizer=tf.keras.regularizers.l2(0.01)))\n",
        "model.add(Dense(2, activation='softmax'))\n",
        "model.compile(loss='categorical_crossentropy',optimizer='adam',metrics=['accuracy'])\n",
        "print(model.summary())"
      ],
      "execution_count": null,
      "outputs": [
        {
          "output_type": "stream",
          "name": "stdout",
          "text": [
            "Model: \"sequential_1\"\n",
            "_________________________________________________________________\n",
            "Layer (type)                 Output Shape              Param #   \n",
            "=================================================================\n",
            "embedding_1 (Embedding)      (None, 250, 100)          1000000   \n",
            "_________________________________________________________________\n",
            "bidirectional_1 (Bidirection (None, 250, 300)          301200    \n",
            "_________________________________________________________________\n",
            "spatial_dropout1d_1 (Spatial (None, 250, 300)          0         \n",
            "_________________________________________________________________\n",
            "lstm_3 (LSTM)                (None, 100)               160400    \n",
            "_________________________________________________________________\n",
            "dense_2 (Dense)              (None, 64)                6464      \n",
            "_________________________________________________________________\n",
            "dense_3 (Dense)              (None, 2)                 130       \n",
            "=================================================================\n",
            "Total params: 1,468,194\n",
            "Trainable params: 1,468,194\n",
            "Non-trainable params: 0\n",
            "_________________________________________________________________\n",
            "None\n"
          ]
        }
      ]
    },
    {
      "cell_type": "code",
      "metadata": {
        "id": "LWmhsZ3AEfZ9"
      },
      "source": [
        "class myCallback(tf.keras.callbacks.Callback):\n",
        "  def on_epoch_end(self, epoch, logs={}):\n",
        "    if(logs.get('accuracy') > 0.97 and\n",
        "    logs.get('val_accuracy') > 0.97 ):\n",
        "      print(\"\\Akurasi sudah mencapai 97%\")\n",
        "      self.model.stop_training = True\n",
        "callbacks = myCallback()"
      ],
      "execution_count": null,
      "outputs": []
    },
    {
      "cell_type": "code",
      "metadata": {
        "colab": {
          "base_uri": "https://localhost:8080/"
        },
        "id": "EaRSSb_1iqws",
        "outputId": "2ef004d7-d052-4d85-9e5a-6c8c584cad06"
      },
      "source": [
        "epochs = 20\n",
        "batch_size = 256\n",
        "\n",
        "history = model.fit(X_train, Y_train, epochs=epochs, batch_size=batch_size, validation_split=0.2, verbose=2, callbacks=[callbacks])"
      ],
      "execution_count": null,
      "outputs": [
        {
          "output_type": "stream",
          "name": "stdout",
          "text": [
            "Epoch 1/20\n",
            "35/35 - 268s - loss: 1.1611 - accuracy: 0.7340 - val_loss: 0.8375 - val_accuracy: 0.7958\n",
            "Epoch 2/20\n",
            "35/35 - 255s - loss: 0.7730 - accuracy: 0.8817 - val_loss: 0.5687 - val_accuracy: 0.9034\n",
            "Epoch 3/20\n",
            "35/35 - 254s - loss: 0.3912 - accuracy: 0.9496 - val_loss: 0.3684 - val_accuracy: 0.9211\n",
            "Epoch 4/20\n",
            "35/35 - 264s - loss: 0.2471 - accuracy: 0.9704 - val_loss: 0.4163 - val_accuracy: 0.8861\n",
            "Epoch 5/20\n",
            "35/35 - 264s - loss: 0.2058 - accuracy: 0.9642 - val_loss: 0.3171 - val_accuracy: 0.9198\n",
            "Epoch 6/20\n",
            "35/35 - 260s - loss: 0.1386 - accuracy: 0.9789 - val_loss: 0.3649 - val_accuracy: 0.9139\n",
            "Epoch 7/20\n",
            "35/35 - 264s - loss: 0.1086 - accuracy: 0.9824 - val_loss: 0.2886 - val_accuracy: 0.9271\n",
            "Epoch 8/20\n",
            "35/35 - 268s - loss: 0.0799 - accuracy: 0.9880 - val_loss: 0.2820 - val_accuracy: 0.9266\n",
            "Epoch 9/20\n",
            "35/35 - 268s - loss: 0.0626 - accuracy: 0.9911 - val_loss: 0.2793 - val_accuracy: 0.9253\n",
            "Epoch 10/20\n",
            "35/35 - 264s - loss: 0.0547 - accuracy: 0.9919 - val_loss: 0.2740 - val_accuracy: 0.9157\n",
            "Epoch 11/20\n",
            "35/35 - 264s - loss: 0.0489 - accuracy: 0.9920 - val_loss: 0.3025 - val_accuracy: 0.9248\n",
            "Epoch 12/20\n",
            "35/35 - 263s - loss: 0.0387 - accuracy: 0.9940 - val_loss: 0.3473 - val_accuracy: 0.9148\n",
            "Epoch 13/20\n",
            "35/35 - 264s - loss: 0.0367 - accuracy: 0.9943 - val_loss: 0.2887 - val_accuracy: 0.9216\n",
            "Epoch 14/20\n",
            "35/35 - 261s - loss: 0.0330 - accuracy: 0.9953 - val_loss: 0.4351 - val_accuracy: 0.9134\n",
            "Epoch 15/20\n",
            "35/35 - 253s - loss: 0.0388 - accuracy: 0.9917 - val_loss: 0.3459 - val_accuracy: 0.9230\n",
            "Epoch 16/20\n",
            "35/35 - 253s - loss: 0.0336 - accuracy: 0.9932 - val_loss: 0.3122 - val_accuracy: 0.9189\n",
            "Epoch 17/20\n",
            "35/35 - 254s - loss: 0.0325 - accuracy: 0.9935 - val_loss: 0.3278 - val_accuracy: 0.9239\n",
            "Epoch 18/20\n",
            "35/35 - 252s - loss: 0.0233 - accuracy: 0.9962 - val_loss: 0.3850 - val_accuracy: 0.9170\n",
            "Epoch 19/20\n",
            "35/35 - 252s - loss: 0.0287 - accuracy: 0.9943 - val_loss: 0.3320 - val_accuracy: 0.9193\n",
            "Epoch 20/20\n",
            "35/35 - 256s - loss: 0.0260 - accuracy: 0.9937 - val_loss: 0.3768 - val_accuracy: 0.9152\n"
          ]
        }
      ]
    },
    {
      "cell_type": "code",
      "metadata": {
        "colab": {
          "base_uri": "https://localhost:8080/",
          "height": 281
        },
        "id": "wqTzMJ08mRhC",
        "outputId": "8bcbf115-0452-49ed-c264-85283c4657d8"
      },
      "source": [
        "import matplotlib.pyplot as plt\n",
        "\n",
        "plt.title('Loss')\n",
        "plt.plot(history.history['loss'], label='train')\n",
        "plt.plot(history.history['val_loss'], label='test')\n",
        "plt.legend()\n",
        "plt.show();"
      ],
      "execution_count": null,
      "outputs": [
        {
          "output_type": "display_data",
          "data": {
            "image/png": "[encoded data removed]",
            "text/plain": [
              "<Figure size 432x288 with 1 Axes>"
            ]
          },
          "metadata": {
            "needs_background": "light"
          }
        }
      ]
    },
    {
      "cell_type": "code",
      "metadata": {
        "colab": {
          "base_uri": "https://localhost:8080/",
          "height": 281
        },
        "id": "TlEW559Cmvnx",
        "outputId": "c3243c9b-ccaa-4d60-8eb9-ef62b0269af1"
      },
      "source": [
        "plt.title('Accuracy')\n",
        "plt.plot(history.history['accuracy'], label='train')\n",
        "plt.plot(history.history['val_accuracy'], label='test')\n",
        "plt.legend()\n",
        "plt.show();"
      ],
      "execution_count": null,
      "outputs": [
        {
          "output_type": "display_data",
          "data": {
            "image/png": "[encoded data removed]",
            "text/plain": [
              "<Figure size 432x288 with 1 Axes>"
            ]
          },
          "metadata": {
            "needs_background": "light"
          }
        }
      ]
    }
  ]
}